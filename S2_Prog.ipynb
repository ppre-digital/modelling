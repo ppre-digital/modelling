{
 "cells": [
  {
   "cell_type": "markdown",
   "id": "fe659b2e-b8b5-4b8c-ae5e-706e2f8c7979",
   "metadata": {},
   "source": [
    "Use the methods you learned from this session to solve the differential equation: $$\\frac{dy(t)}{dt} = 3t^2$$ Compare the results obtained with the solution of the differential equation ($y(t) = t^3$)."
   ]
  },
  {
   "cell_type": "markdown",
   "id": "c2e057ce-0a72-4185-b905-dd99f80649fa",
   "metadata": {},
   "source": [
    "Import numpy"
   ]
  },
  {
   "cell_type": "code",
   "execution_count": null,
   "id": "327f8d14",
   "metadata": {
    "extensions": {
     "jupyter_dashboards": {
      "version": 1,
      "views": {
       "default_view": {
        "hidden": true
       }
      }
     }
    }
   },
   "outputs": [],
   "source": []
  },
  {
   "cell_type": "markdown",
   "id": "67931585-0dcf-4856-a185-3cd30ae02fcd",
   "metadata": {},
   "source": [
    "Import matplotlib"
   ]
  },
  {
   "cell_type": "code",
   "execution_count": null,
   "id": "339cfcfc-97a8-44a2-abb2-98ef0fbc0ffb",
   "metadata": {
    "extensions": {
     "jupyter_dashboards": {
      "version": 1,
      "views": {
       "default_view": {
        "hidden": true
       }
      }
     }
    }
   },
   "outputs": [],
   "source": []
  },
  {
   "cell_type": "markdown",
   "id": "d8a33001-4f04-4a83-8f20-fa4b33f93cea",
   "metadata": {},
   "source": [
    "Define a `RungeKutta()` function. \n",
    "   - The function shall receive the following inputs:\n",
    "       - `F` : the differential equation\n",
    "       - `t0` : initial value of `t`\n",
    "       - `tf` : final value of `t`\n",
    "       - `h` : step size\n",
    "       - `y0` : initial value of `y`\n",
    "\n",
    "   - Define a variable `t` with a range from `t0` to `tf` with a step size `h`.\n",
    "   - Define a variable `yRK` for storing the $y(t)$ values. `yRK` shall have the same size as `t`.\n",
    "   - Set the first value in the `yRK` array as equal to `y0`.\n",
    "   - Make a for loop based on the Runge-Kutta methodology to solve the values of $y(t)$. \n",
    "   - Return the values of `yRK` and `t`."
   ]
  },
  {
   "cell_type": "code",
   "execution_count": null,
   "id": "a718ce19",
   "metadata": {
    "extensions": {
     "jupyter_dashboards": {
      "version": 1,
      "views": {
       "default_view": {
        "hidden": true
       }
      }
     }
    }
   },
   "outputs": [],
   "source": []
  },
  {
   "cell_type": "markdown",
   "id": "1f64ebb1-ffd4-494e-ae3a-43235976054e",
   "metadata": {},
   "source": [
    "Define a `Euler()` function. Repeat the same steps mentioned in building the `RungeKutta()` function. Use `yE` instead of `yRK`. Return `yE`."
   ]
  },
  {
   "cell_type": "code",
   "execution_count": null,
   "id": "01e788e3",
   "metadata": {},
   "outputs": [],
   "source": []
  },
  {
   "cell_type": "markdown",
   "id": "d493032d-5492-433b-90fb-69ee0a6cdcbf",
   "metadata": {},
   "source": [
    "Define the values to be used by the two functions.\n",
    "   - Use `lambda` to store the differential equation in the variable `F`\n",
    "   - Define the variables and assign values to them: `t0` = 0, `tf` = 4, `h` = 0.1 and `y0` = `t0**3`.\n",
    "   - Call the `RungeKutta()` function using the defined inputs and store its output in variables `yRK` and `t`.\n",
    "   - Call the `Euler()` function using the defined inputs and store its output in variable `yE`."
   ]
  },
  {
   "cell_type": "code",
   "execution_count": null,
   "id": "e5f872c1-47ec-423c-af95-bbea9b1a3ade",
   "metadata": {},
   "outputs": [],
   "source": []
  },
  {
   "cell_type": "markdown",
   "id": "78073a2f-549d-4c59-aa1d-d212f6e9f539",
   "metadata": {},
   "source": [
    "Plot your results on the same figure along with the $y(t) = t^3$ curve."
   ]
  },
  {
   "cell_type": "code",
   "execution_count": null,
   "id": "d73ee169-60f2-4ec6-8140-a068205e6d3b",
   "metadata": {},
   "outputs": [],
   "source": []
  },
  {
   "cell_type": "markdown",
   "id": "08fdfc3b-5656-4995-9e6e-3c68c1ab3939",
   "metadata": {},
   "source": [
    "Which method give closer results to the solution? Change the value of `h` and note the changes."
   ]
  },
  {
   "cell_type": "markdown",
   "id": "1933bbe8-c9f0-4fdf-aa8c-ce89d6efb1bd",
   "metadata": {},
   "source": [
    "#### Expected figure:\n",
    "<center><img src=\"ex_RKE.png\" width=\"550x\"/></center>"
   ]
  },
  {
   "cell_type": "code",
   "execution_count": null,
   "id": "b5448d0b-2576-4859-b2fd-6cdbc7e88bd9",
   "metadata": {},
   "outputs": [],
   "source": []
  }
 ],
 "metadata": {
  "extensions": {
   "jupyter_dashboards": {
    "activeView": "default_view",
    "version": 1,
    "views": {
     "default_view": {
      "cellMargin": 10,
      "defaultCellHeight": 40,
      "maxColumns": 12,
      "name": "active_view",
      "type": "grid"
     }
    }
   }
  },
  "kernelspec": {
   "display_name": "Python 3 (ipykernel)",
   "language": "python",
   "name": "python3"
  },
  "language_info": {
   "codemirror_mode": {
    "name": "ipython",
    "version": 3
   },
   "file_extension": ".py",
   "mimetype": "text/x-python",
   "name": "python",
   "nbconvert_exporter": "python",
   "pygments_lexer": "ipython3",
   "version": "3.8.11"
  }
 },
 "nbformat": 4,
 "nbformat_minor": 5
}
