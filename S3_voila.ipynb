{
 "cells": [
  {
   "cell_type": "code",
   "execution_count": 1,
   "metadata": {},
   "outputs": [],
   "source": [
    "import bqplot as bqp\n",
    "import numpy as np\n",
    "import ipywidgets as widgets\n",
    "from IPython.display import clear_output, display"
   ]
  },
  {
   "cell_type": "markdown",
   "metadata": {},
   "source": [
    "## Monte Carlo"
   ]
  },
  {
   "cell_type": "markdown",
   "metadata": {},
   "source": [
    "**Objective:** the goal of this application is to let you understand the Monte Carlo simulation in a visual way using two simple examples, either rolling a dice or flipping a coin. \n",
    "\n",
    "#### How it works\n",
    "   - **Method**: the method dropdown menu allows you to choose between the two available examples.\n",
    "   - **MC scatter plot**: for the 'Dice' method, plots the average output from a dice at different number of trials, for example, for four trials and the following outputs (1 x 2, 5 x 1, 6 x 1), the average is $\\frac{13}{4}$. For the 'Coin' method, the probability of getting a head is plotted against the number of trials.\n",
    "   - **MC bar chart**: shows the repititions for each output at the specified number of trials input.\n",
    "   - **Number of trials**: allows you to set the maximum number of trials to appear on the scatter plot and the results for number of trials to appear on the bar chart. The range of the number of trials is set from 1 to 1000.\n",
    "   - Refresh the page in order to have a new set of data.\n",
    "   \n",
    "As the number of trials increases what can you notice in both figures? What numbers is the MC scatter plot approaching in each method?"
   ]
  },
  {
   "cell_type": "code",
   "execution_count": 4,
   "metadata": {},
   "outputs": [
    {
     "data": {
      "application/vnd.jupyter.widget-view+json": {
       "model_id": "720b5f31e5184d809a263cc47a307520",
       "version_major": 2,
       "version_minor": 0
      },
      "text/plain": [
       "VBox(children=(Dropdown(description='Method', options=('Dice', 'Coin'), value='Dice'), HBox(children=(Figure(a…"
      ]
     },
     "metadata": {},
     "output_type": "display_data"
    }
   ],
   "source": [
    "# define basic variables\n",
    "maxtrials = 1000\n",
    "\n",
    "# variables for Dice method\n",
    "rolls = np.random.choice([1,2,3,4,5,6], size=maxtrials)\n",
    "averages = np.cumsum(rolls) / np.arange(1, maxtrials+1)\n",
    "\n",
    "# variables for Coin method\n",
    "crolls = np.random.choice(['H', 'T'], size=maxtrials)\n",
    "Hcount = 0\n",
    "caverages = np.zeros_like(averages)\n",
    "for i in range(maxtrials):\n",
    "    if crolls[i] == 'H':\n",
    "        Hcount = Hcount + 1\n",
    "    caverages[i] = Hcount / np.arange(1, maxtrials+1)[i]\n",
    "\n",
    "# setting the scatter figure objects\n",
    "sc_x = bqp.LinearScale()\n",
    "sc_y = bqp.LinearScale()\n",
    "scat_MC = bqp.Scatter(x=[], y=[], colors=['darkblue'], default_size=1, scales = {'x':sc_x, 'y': sc_y})\n",
    "ax_x = bqp.Axis(scale=sc_x, label='Number of trials')\n",
    "ax_y = bqp.Axis(scale=sc_y, orientation='vertical', label='Average of dice output')\n",
    "fig = bqp.Figure(marks=[scat_MC], axes=[ax_x, ax_y], title='MC scatter plot', animation_duration=1000, preserve_aspect=True)\n",
    "fig.layout.width = '600px'\n",
    "fig.layout.length = '500px'\n",
    "\n",
    "# setting the bar chart figure\n",
    "sc_xBars = bqp.OrdinalScale()\n",
    "sc_yBars = bqp.LinearScale()\n",
    "bars_MC = bqp.Bars(x=['1', '2', '3', '4', '5', '6'], y=[], scales = {'x':sc_xBars, 'y':sc_yBars})\n",
    "ax_xBars = bqp.Axis(scale=sc_xBars, label='Dice output')\n",
    "ax_yBars = bqp.Axis(scale=sc_yBars, orientation='vertical', label='Frequency')\n",
    "figBars = bqp.Figure(marks=[bars_MC], axes=[ax_xBars, ax_yBars], title='MC bar chart', animation_duration=1000, preserve_aspect=True)\n",
    "figBars.layout.width = '400px'\n",
    "figBars.layout.length = '300px'\n",
    "\n",
    "# defining the input widgets\n",
    "changeset_var = widgets.Dropdown(options=['Dice', 'Coin'], value = 'Dice', description = 'Method')\n",
    "num_rolls_var = widgets.IntSlider(min=1, max=maxtrials, orientation='vertical', description='Number of trials')\n",
    "\n",
    "# defining the update function\n",
    "def on_value_change(*args):\n",
    "    changeset = changeset_var.value\n",
    "    num_rolls = num_rolls_var.value\n",
    "    \n",
    "    if changeset == 'Dice':\n",
    "        ax_y.label = 'Average of dice output'\n",
    "        ax_xBars.label = 'Dice Output'\n",
    "        scat_MC.y = averages[:num_rolls]\n",
    "        bkeys, bvalues = np.unique(rolls[:num_rolls], return_counts=True)\n",
    "    elif changeset == 'Coin':\n",
    "        ax_y.label = 'Probability of getting a head (H)'\n",
    "        ax_xBars.label = 'Coin Output'\n",
    "        scat_MC.y = caverages[:num_rolls]\n",
    "        bkeys, bvalues = np.unique(crolls[:num_rolls], return_counts=True)\n",
    "            \n",
    "    scat_MC.x = np.arange(1, maxtrials+1) [:num_rolls]\n",
    "    bars_MC.x = bkeys\n",
    "    bars_MC.y = bvalues\n",
    "    clear_output(wait=True)\n",
    "\n",
    "# setting what and how to display\n",
    "lowerbox = widgets.HBox([fig, figBars, num_rolls_var])\n",
    "display(widgets.VBox([changeset_var, lowerbox]))\n",
    "\n",
    "# calling the update function on input change\n",
    "changeset_var.observe(on_value_change, names = 'value')\n",
    "num_rolls_var.observe(on_value_change, names = 'value')\n",
    "\n",
    "# call for the first display\n",
    "on_value_change(None)"
   ]
  },
  {
   "cell_type": "code",
   "execution_count": null,
   "metadata": {},
   "outputs": [],
   "source": []
  }
 ],
 "metadata": {
  "kernelspec": {
   "display_name": "Python 3 (ipykernel)",
   "language": "python",
   "name": "python3"
  },
  "language_info": {
   "codemirror_mode": {
    "name": "ipython",
    "version": 3
   },
   "file_extension": ".py",
   "mimetype": "text/x-python",
   "name": "python",
   "nbconvert_exporter": "python",
   "pygments_lexer": "ipython3",
   "version": "3.8.11"
  }
 },
 "nbformat": 4,
 "nbformat_minor": 4
}
