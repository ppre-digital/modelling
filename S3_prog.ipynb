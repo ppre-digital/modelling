{
 "cells": [
  {
   "cell_type": "markdown",
   "id": "9f13d6ca-2052-4fa1-8e3e-b38a14b9ca2f",
   "metadata": {},
   "source": [
    "#### Mathematical expressions, symbols, substitution and differentiation"
   ]
  },
  {
   "cell_type": "markdown",
   "id": "e50acf79-af8c-4a4f-b731-186f629d1dfb",
   "metadata": {},
   "source": [
    "Define variables `t`, `x` and `y` as **real** symbols. Use the `symbols()` function from `sympy` library."
   ]
  },
  {
   "cell_type": "code",
   "execution_count": 1,
   "id": "ab3a4719-d125-4ffe-ac28-be5e39c9acb7",
   "metadata": {},
   "outputs": [],
   "source": [
    "# import necessary libraries\n"
   ]
  },
  {
   "cell_type": "code",
   "execution_count": null,
   "id": "8c5b515b-6183-4c24-9196-967ab09a1c08",
   "metadata": {},
   "outputs": [],
   "source": []
  },
  {
   "cell_type": "markdown",
   "id": "75e96943-7301-479f-a832-a29894341371",
   "metadata": {},
   "source": [
    "Define a variable `f` equal to the expression $8t^2 - t$."
   ]
  },
  {
   "cell_type": "code",
   "execution_count": null,
   "id": "10162b5b-682b-4413-a5df-db4bac9c5367",
   "metadata": {},
   "outputs": [],
   "source": []
  },
  {
   "cell_type": "markdown",
   "id": "35d0f347-a800-4def-9be9-7df35eddcf02",
   "metadata": {},
   "source": [
    "Use the `diff()` function from `sympy` to calculate the differentiation of $f$ with respect to $t$: $\\frac{df}{dt}$. Store the result in a variable: `dfdt`."
   ]
  },
  {
   "cell_type": "code",
   "execution_count": null,
   "id": "6250220c-82dc-4325-ac71-f62e7623f36e",
   "metadata": {},
   "outputs": [],
   "source": []
  },
  {
   "cell_type": "markdown",
   "id": "f775f706-046c-42db-8d8e-c45d9e68cf88",
   "metadata": {},
   "source": [
    "Use the `solve()` function from `sympy` to solve for the value of `t`, when the value of `dfdt` is equal to 1."
   ]
  },
  {
   "cell_type": "code",
   "execution_count": null,
   "id": "6b1cbecd-7567-4545-9449-da45417ceeed",
   "metadata": {},
   "outputs": [],
   "source": []
  },
  {
   "cell_type": "markdown",
   "id": "d170db1f-6652-4477-b25b-c759443afd6e",
   "metadata": {},
   "source": [
    "Given the function: $g = xy^2$, use the equations from the session to calculate the sensitivity coefficients of $x$ and $y$. You may need to use the `diff()` and `subs()` functions from `sympy`. Use $x = y = 2$."
   ]
  },
  {
   "cell_type": "code",
   "execution_count": 10,
   "id": "2e83de23-797a-490f-bc1f-8caa03e6a102",
   "metadata": {},
   "outputs": [],
   "source": [
    "# calculate dt/dx and store in a variable dtdx\n"
   ]
  },
  {
   "cell_type": "code",
   "execution_count": 11,
   "id": "5e617b92-f5ee-4c3b-a5a9-fc6558eaa613",
   "metadata": {},
   "outputs": [],
   "source": [
    "# calculate dt/dy and store in a variable dtdy\n"
   ]
  },
  {
   "cell_type": "code",
   "execution_count": 4,
   "id": "21529c51-ad79-4a59-a4a4-ddb79f48a737",
   "metadata": {},
   "outputs": [],
   "source": [
    "# calculate the sensitivity coefficient for x: solve dtdx with given values of x and y (expected answer: 4)\n"
   ]
  },
  {
   "cell_type": "code",
   "execution_count": 3,
   "id": "5413d013-2cac-4fa1-b655-0c768f0d77dd",
   "metadata": {},
   "outputs": [],
   "source": [
    "# calculate the sensitivity coefficient for y: solve dtdy with given values of x and y (expected answer: 8)\n"
   ]
  },
  {
   "cell_type": "markdown",
   "id": "41100f0d-a365-4e8b-8481-5940f419adcb",
   "metadata": {},
   "source": [
    "Calculate the total standard deviation in `g`. Use a standard deviation of 0.1 (absolute value) for both $x$ and $y$ (expected answer: 0.8944)"
   ]
  },
  {
   "cell_type": "code",
   "execution_count": null,
   "id": "f35d58d6-8d65-4836-91f0-f4970eb88ea9",
   "metadata": {},
   "outputs": [],
   "source": []
  },
  {
   "cell_type": "markdown",
   "id": "7908aade-c461-4ac9-97d5-4aef2c2408c8",
   "metadata": {},
   "source": [
    "#### Monte Carlo: input probability distribution"
   ]
  },
  {
   "cell_type": "markdown",
   "id": "e819df9d-bdf5-43c7-bbee-3a487ab45b58",
   "metadata": {},
   "source": [
    "Use the `numpy.random.seed()` function to specify a seed value equal to 123. This step is to ensure you get the same results shown in the expected figure."
   ]
  },
  {
   "cell_type": "code",
   "execution_count": null,
   "id": "33902302-c713-4eba-8756-42aa90832b40",
   "metadata": {},
   "outputs": [],
   "source": []
  },
  {
   "cell_type": "markdown",
   "id": "c58c802b-be0c-43bb-b634-8fbaaffc7c57",
   "metadata": {},
   "source": [
    "Use the `numpy.random.normal()` function to create a normal probability distribution of input parameter $nV$. Use a mean of 230, standard deviation of 0.05% (relative value) and a size of 1000."
   ]
  },
  {
   "cell_type": "code",
   "execution_count": null,
   "id": "1a21e162-890c-48c1-907f-d7f53215326d",
   "metadata": {},
   "outputs": [],
   "source": []
  },
  {
   "cell_type": "markdown",
   "id": "baa2ad4b-0016-49b5-8d35-da0495628228",
   "metadata": {},
   "source": [
    "Use the `numpy.random.uniform()` function to create a uniform probability distribution of input parameter $uV$. Use the minimum and maximum values of `nV` as the limits of the function and a size equal to 1000."
   ]
  },
  {
   "cell_type": "code",
   "execution_count": null,
   "id": "9498a235-d407-4867-b610-2df7f467d56e",
   "metadata": {
    "tags": []
   },
   "outputs": [],
   "source": []
  },
  {
   "cell_type": "markdown",
   "id": "6080a0af-4fb7-438c-8008-cee08d2a9424",
   "metadata": {},
   "source": [
    "Use the `subplots()` function from `matplotlib.pyplot` to plot both distributions in the same figure next to each other. Use the same y-axis limit [0, 40], add a title and labels to each plot. Which distribution you think would better represent readings, for a limited time, from a voltage data logger with an uncertainty of measurement equal to 0.05%, assuming the voltage is constant at 230 $V$?"
   ]
  },
  {
   "cell_type": "code",
   "execution_count": null,
   "id": "c8386f45-be4d-4f75-bddb-489c56928137",
   "metadata": {},
   "outputs": [],
   "source": []
  },
  {
   "cell_type": "markdown",
   "id": "417792e4-8481-426e-a9d4-ecaf0e74021f",
   "metadata": {},
   "source": [
    "Expected figure:\n",
    "<center><img src=\"InputDistribution.png\" width=\"550x\"/></center>"
   ]
  }
 ],
 "metadata": {
  "kernelspec": {
   "display_name": "Python 3 (ipykernel)",
   "language": "python",
   "name": "python3"
  },
  "language_info": {
   "codemirror_mode": {
    "name": "ipython",
    "version": 3
   },
   "file_extension": ".py",
   "mimetype": "text/x-python",
   "name": "python",
   "nbconvert_exporter": "python",
   "pygments_lexer": "ipython3",
   "version": "3.8.11"
  }
 },
 "nbformat": 4,
 "nbformat_minor": 5
}
