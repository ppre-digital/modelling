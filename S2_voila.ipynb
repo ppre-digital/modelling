{
 "cells": [
  {
   "cell_type": "markdown",
   "id": "4748f959-fe34-4874-9b38-d49a453232f2",
   "metadata": {},
   "source": [
    "### ODE solvers"
   ]
  },
  {
   "cell_type": "markdown",
   "id": "a6ddf580-1708-4c7c-94e4-62a8a1d5ac6b",
   "metadata": {},
   "source": [
    "#### Objective:\n",
    "   - comparing the Runge-Kutta and Euler-Cauchy approximation solutions to the actual solution of an ODE\n",
    "   - visualize the effect of changing the step size on both methods solutions\n",
    "\n",
    "#### How it works:\n",
    "   - **Comparison plot:** the solution of the ordinary differential equation: $\\frac{dy(t)}{dt}=cos(t)$ is plotted along with the approximations from both methods.\n",
    "   - **Error plots**: highlighting the error in both methods in comparison to the ODE solution: $y(t) = sin(t)$\n",
    "   - **$t_0$:** the starting point of array `t` (x-axis).\n",
    "   - **$t_f$:** the ending point of array `t`.\n",
    "   - **$h$:** the step size.\n",
    "\n",
    "#### Discussion:\n",
    "   - What do you notice when changing the step size $h$?\n",
    "   - Based on the knowledge you gained from the session, do you think you can do such an exercise manually (with pen, paper and a calculator)? Which method would be less time consuming to solve?\n",
    "   - What is the major downside of having a very small step size? \n",
    "   - Are there other methods that can yield better approximations for this ODE than the ones used here? Find yourself."
   ]
  },
  {
   "cell_type": "code",
   "execution_count": 1,
   "id": "327f8d14",
   "metadata": {
    "extensions": {
     "jupyter_dashboards": {
      "version": 1,
      "views": {
       "default_view": {
        "hidden": true
       }
      }
     }
    },
    "tags": []
   },
   "outputs": [],
   "source": [
    "from bqplot import pyplot as plt\n",
    "import bqplot as bqp"
   ]
  },
  {
   "cell_type": "code",
   "execution_count": 2,
   "id": "97a7eb85",
   "metadata": {
    "extensions": {
     "jupyter_dashboards": {
      "version": 1,
      "views": {
       "default_view": {
        "hidden": true
       }
      }
     }
    },
    "tags": []
   },
   "outputs": [],
   "source": [
    "import numpy as np"
   ]
  },
  {
   "cell_type": "code",
   "execution_count": 3,
   "id": "b658788a",
   "metadata": {
    "extensions": {
     "jupyter_dashboards": {
      "version": 1,
      "views": {
       "default_view": {
        "hidden": true
       }
      }
     }
    },
    "tags": []
   },
   "outputs": [],
   "source": [
    "import ipywidgets as widgets"
   ]
  },
  {
   "cell_type": "code",
   "execution_count": 12,
   "id": "647bd6b4",
   "metadata": {
    "extensions": {
     "jupyter_dashboards": {
      "version": 1,
      "views": {
       "default_view": {
        "col": 5,
        "height": 9,
        "hidden": false,
        "row": 0,
        "width": 6
       }
      }
     }
    },
    "tags": []
   },
   "outputs": [
    {
     "data": {
      "application/vnd.jupyter.widget-view+json": {
       "model_id": "b425def339f349db8768ad5cd7161995",
       "version_major": 2,
       "version_minor": 0
      },
      "text/plain": [
       "HBox(children=(VBox(children=(Figure(animation_duration=1000, axes=[Axis(label='t', scale=LinearScale()), Axis…"
      ]
     },
     "metadata": {},
     "output_type": "display_data"
    }
   ],
   "source": [
    "# setting the initial conditions\n",
    "t0 = 0\n",
    "y0 = np.sin(t0)\n",
    "tfinal = 1\n",
    "h = 0.1\n",
    "\n",
    "# setting the bqp figure objects\n",
    "\n",
    "sc_x = bqp.LinearScale()\n",
    "sc_y = bqp.LinearScale()\n",
    "lineR = bqp.Lines(x=[], y=[], labels=['sin(t)'], colors=['darkblue'], display_legend = True, scales = {'x':sc_x, 'y': sc_y})\n",
    "lineRK = bqp.Lines(x=[], y=[], labels=['RK approximation'], colors=['darkgreen'], display_legend = True, scales = {'x':sc_x, 'y': sc_y})\n",
    "lineEu = bqp.Lines(x=[], y=[], labels=['Euler approximation'], colors=['magenta'], display_legend = True, scales = {'x':sc_x, 'y': sc_y})\n",
    "ax_x = bqp.Axis(scale=sc_x, label='t')\n",
    "ax_y = bqp.Axis(scale=sc_y, orientation='vertical', label='y(t)')\n",
    "#mainfigLayout = widgets.Layout(width='1400px', height='600px')\n",
    "fig = bqp.Figure(marks=[lineR, lineRK, lineEu], axes=[ax_x, ax_y], title='Comparison plot', \n",
    "                     legend_location='bottom-left', animation_duration=1000, preserve_aspect=True)\n",
    "#fig = bqp.Figure(marks=[lineR], axes=[ax_x, ax_y], title='Comparison plot', \n",
    "#                     legend_location='bottom', animation_duration=1000, preserve_aspect=True)\n",
    "fig.layout.width = '700px'\n",
    "fig.layout.length = '600px'\n",
    "\n",
    "#display(fig)\n",
    "\n",
    "RKerr_fig = plt.figure(animation_duration=1000, preserve_aspect=True, title='RK approximation - sin(t)')\n",
    "RKerr_fig.layout.height = '300px'\n",
    "RKerr_fig.layout.width = '400px'\n",
    "RKerr_lin = plt.plot(x=[], y=[])\n",
    "\n",
    "Eerr_fig = plt.figure(animation_duration=1000, preserve_aspect=True, title='Euler approximation - sin(t)')\n",
    "Eerr_fig.layout.height = '300px'\n",
    "Eerr_fig.layout.width = '400px'\n",
    "Eerr_lin = plt.plot(x=[], y=[])\n",
    "\n",
    "t0_var = widgets.FloatText(value=0, description=r'\\(t_0\\)')\n",
    "tfinal_var = widgets.FloatText(value=3.1415926*2, step=3.1415926, description=r'\\(t_f\\)')\n",
    "h_var = widgets.FloatText(value=0.1, step=0.05, description=r'\\(h\\)')\n",
    "\n",
    "def update_plot(*args):\n",
    "    t0 = t0_var.value\n",
    "    tfinal = tfinal_var.value\n",
    "    h = h_var.value\n",
    "    \n",
    "    y0 = np.sin(t0)\n",
    "    def RungeKutta(F, t0, h, tfinal, y0):\n",
    "        t = np.arange(t0,tfinal,h)\n",
    "        yout = np.ones(t.size)\n",
    "        yout[0] = y0\n",
    "\n",
    "        for i in range(1,t.size):\n",
    "            s1 = F(t[i-1])#, yout[i-1])\n",
    "            s2 = F(t[i-1]+h/2)#, yout[i-1]+h*s1/2)\n",
    "            s3 = F(t[i-1]+h/2)#, yout[i-1]+h*s2/2)\n",
    "            s4 = F(t[i-1]+h)#, yout[i-1]+h*s3)\n",
    "            yout[i] = yout[i-1] + h*(s1 + 2*s2 + 2*s3 + s4)/6\n",
    "        return yout, t\n",
    "    \n",
    "    def Euler(F, t0, h, tfinal, y0):\n",
    "        t = np.arange(t0,tfinal,h)\n",
    "        tsize = t.size\n",
    "        yout = np.ones(tsize)\n",
    "        yout[0] = y0\n",
    "\n",
    "        for i in range(1,tsize):\n",
    "            s1 = F(t[i-1])#,yout[i-1])\n",
    "            yout[i] = yout[i-1] + s1*h \n",
    "        return yout\n",
    "    F = lambda t : np.cos(t)\n",
    "    yout, t = RungeKutta(F, t0, h, tfinal, y0)\n",
    "    youtE = Euler(F, t0, h, tfinal, y0)\n",
    "    t1 = np.arange(t0,tfinal,(tfinal-t0)/1000)\n",
    "    # update figure objects\n",
    "    lineR.x, lineRK.x, lineEu.x = t1, t, t\n",
    "    lineR.y, lineRK.y, lineEu.y = np.sin(t1), yout, youtE\n",
    "    RKerr_lin.x, Eerr_lin.x = t, t \n",
    "    RKerr_lin.y = np.sin(t) - yout\n",
    "    Eerr_lin.y = np.sin(t) - youtE\n",
    "\n",
    "t0_var.observe(update_plot, names = 'value')\n",
    "tfinal_var.observe(update_plot, names = 'value')\n",
    "h_var.observe(update_plot, names = 'value')\n",
    "\n",
    "right_box = widgets.VBox([RKerr_fig, Eerr_fig])\n",
    "left_box = widgets.VBox([fig, t0_var,tfinal_var,h_var])\n",
    "display(widgets.HBox([left_box, right_box]))\n",
    "\n",
    "# call function update_plot when changing the model parameters values\n",
    "update_plot(None)"
   ]
  },
  {
   "cell_type": "code",
   "execution_count": null,
   "id": "71be7903-a624-4eb0-bb81-a544d5464409",
   "metadata": {},
   "outputs": [],
   "source": []
  },
  {
   "cell_type": "code",
   "execution_count": null,
   "id": "97b518fe-9be1-4057-b087-818e796d2268",
   "metadata": {},
   "outputs": [],
   "source": []
  },
  {
   "cell_type": "code",
   "execution_count": null,
   "id": "017a24be-fb2c-48a7-994a-e38b5e1fb82e",
   "metadata": {},
   "outputs": [],
   "source": []
  }
 ],
 "metadata": {
  "extensions": {
   "jupyter_dashboards": {
    "activeView": "default_view",
    "version": 1,
    "views": {
     "default_view": {
      "cellMargin": 10,
      "defaultCellHeight": 40,
      "maxColumns": 12,
      "name": "active_view",
      "type": "grid"
     }
    }
   }
  },
  "kernelspec": {
   "display_name": "Python 3 (ipykernel)",
   "language": "python",
   "name": "python3"
  },
  "language_info": {
   "codemirror_mode": {
    "name": "ipython",
    "version": 3
   },
   "file_extension": ".py",
   "mimetype": "text/x-python",
   "name": "python",
   "nbconvert_exporter": "python",
   "pygments_lexer": "ipython3",
   "version": "3.7.12"
  }
 },
 "nbformat": 4,
 "nbformat_minor": 5
}
