{
 "cells": [
  {
   "cell_type": "markdown",
   "id": "e6ad676a",
   "metadata": {
    "extensions": {
     "jupyter_dashboards": {
      "version": 1,
      "views": {
       "default_view": {
        "col": 0,
        "height": 2,
        "hidden": false,
        "row": 62,
        "width": 12
       }
      }
     }
    }
   },
   "source": [
    "### Manual fitting and model coefficients"
   ]
  },
  {
   "cell_type": "markdown",
   "id": "b64f2193",
   "metadata": {
    "extensions": {
     "jupyter_dashboards": {
      "version": 1,
      "views": {
       "default_view": {
        "col": 0,
        "height": 2,
        "hidden": false,
        "row": 64,
        "width": 12
       }
      }
     }
    }
   },
   "source": [
    "#### Objective:\n",
    "   - understand the effect of changing one model coefficient at a time.\n",
    "\n",
    "#### How it works:\n",
    "   - the figure shows synthetic data points based on a polynomial equation with an added random error (noise) in the range of -0.1 to 0.1. Change the values of the model parameters $\\beta_0$, $\\beta_1$, $\\beta_2$, $\\beta_3$ and $\\beta_4$ one at a time, and note the changes in the plot and values of $SSE$, $R^2$ and $DW$. \n",
    "\n",
    "#### Discussion:\n",
    "   - Do you think it is possible to fit a model to such data manually? Initial values have been given to help you with the process."
   ]
  },
  {
   "cell_type": "code",
   "execution_count": 7,
   "id": "88332f2f",
   "metadata": {
    "tags": []
   },
   "outputs": [],
   "source": [
    "import numpy as np\n",
    "import bqplot as bqp\n",
    "import ipywidgets as widgets\n",
    "from IPython.display import clear_output, display, Latex"
   ]
  },
  {
   "cell_type": "code",
   "execution_count": 9,
   "id": "b9835eed",
   "metadata": {
    "extensions": {
     "jupyter_dashboards": {
      "version": 1,
      "views": {
       "default_view": {
        "col": 0,
        "height": 2,
        "hidden": false,
        "row": 66,
        "width": 12
       }
      }
     }
    },
    "tags": []
   },
   "outputs": [
    {
     "data": {
      "application/vnd.jupyter.widget-view+json": {
       "model_id": "3c0f0dbcb6f344119618307779f32abd",
       "version_major": 2,
       "version_minor": 0
      },
      "text/plain": [
       "GridspecLayout(children=(Figure(animation_duration=1000, axes=[Axis(label='x', scale=LinearScale()), Axis(labe…"
      ]
     },
     "metadata": {},
     "output_type": "display_data"
    }
   ],
   "source": [
    "# synthetic input data\n",
    "np.random.seed(0)\n",
    "x = np.linspace(-1,1,30)\n",
    "# z = x - 2 * (x ** 2) + 0.5 * (x ** 3) + 0.2 * (x ** 4) + np.random.normal(-0.1, 0.1, 30)\n",
    "e = np.random.normal(-0.1, 0.1, 30)\n",
    "z = x - 2 * (x ** 2) + 0.5 * (x ** 3) + e\n",
    "\n",
    "# setting the plot figure objects\n",
    "sc_x = bqp.LinearScale()\n",
    "sc_y = bqp.LinearScale()\n",
    "scat_MF = bqp.Scatter(x=x, y=z, colors=['orange'], default_size=10, scales = {'x':sc_x, 'y': sc_y})\n",
    "lines_MF = bqp.Lines(x=x, y=[], colors=['darkblue'], scales = {'x':sc_x, 'y': sc_y})\n",
    "ax_x = bqp.Axis(scale=sc_x, label='x')\n",
    "ax_y = bqp.Axis(scale=sc_y, orientation='vertical', label='y')\n",
    "figMF = bqp.Figure(marks=[scat_MF, lines_MF], axes=[ax_x, ax_y], title='Manual fitting', animation_duration=1000, preserve_aspect=True)\n",
    "figMF.layout.width = '800px'\n",
    "figMF.layout.length = '700px'\n",
    "\n",
    "SSEtext = ''\n",
    "SSELabel = widgets.Label(value = r'\\(\\color{red} {' + SSEtext  + '}\\)')\n",
    "\n",
    "Rsqrtext = ''\n",
    "RsqrLabel = widgets.Label(value = r'\\(\\color{red} {' + Rsqrtext  + '}\\)')\n",
    "\n",
    "DWtext = 'bang'\n",
    "DWLabel = widgets.Label(value = r'\\(\\color{red} {' + DWtext  + '}\\)')\n",
    "\n",
    "b4_var = widgets.FloatText(value=0.5, step=0.1, description=r'\\(\\beta_4\\)')\n",
    "b3_var = widgets.FloatText(value=0.5, step=0.1, description=r'\\(\\beta_3\\)')\n",
    "b2_var = widgets.FloatText(value=-1.5977, step=0.1, description=r'\\(\\beta_2\\)')\n",
    "b1_var = widgets.FloatText(value=0.6048, step=0.1, description=r'\\(\\beta_1\\)')\n",
    "b0_var = widgets.FloatText(value=-0.0922, step=0.1, description=r'\\(\\beta_0\\)')\n",
    "\n",
    "# function to update plot based on input model parameters\n",
    "def update_plot(*args):\n",
    "    b4 = b4_var.value\n",
    "    b3 = b3_var.value\n",
    "    b2 = b2_var.value\n",
    "    b1 = b1_var.value\n",
    "    b0 = b0_var.value\n",
    "    \n",
    "    lines_MF.y = b4*x**4 + b3*x**3 + b2*x**2 + b1*x + b0\n",
    "    SSE = np.sum((z-lines_MF.y)**2)\n",
    "    SST = np.sum((z - np.mean(z))**2)\n",
    "    Rsqr = 1 - SSE/SST\n",
    "    err = z - lines_MF.y\n",
    "    DW = (np.sum((np.diff(err))**2))/sum(err**2)\n",
    "    \n",
    "    SSEtext = 'SSE={:.3f}'.format(SSE)\n",
    "    SSELabel.value = r'\\(\\color{black} {' + SSEtext  + '}\\)'\n",
    "\n",
    "    Rsqrtext = 'R^2={:.3f}'.format(Rsqr)\n",
    "    RsqrLabel.value = r'\\(\\color{black} {' + Rsqrtext  + '}\\)'\n",
    "\n",
    "    DWtext = 'DW={:.3f}'.format(DW)\n",
    "    DWLabel.value = r'\\(\\color{black} {' + DWtext  + '}\\)'\n",
    "    \n",
    "    return DWtext\n",
    "\n",
    "b4_var.observe(update_plot, names = 'value')\n",
    "b3_var.observe(update_plot, names = 'value')\n",
    "b2_var.observe(update_plot, names = 'value')\n",
    "b1_var.observe(update_plot, names = 'value')\n",
    "b0_var.observe(update_plot, names = 'value')\n",
    "\n",
    "# create a 9x4 grid layout\n",
    "grid = widgets.GridspecLayout(9, 4)\n",
    "\n",
    "# fill it in with widgets\n",
    "grid[:, 0:2] = figMF\n",
    "grid[0, 3] = b4_var\n",
    "grid[1, 3] = b3_var\n",
    "grid[2, 3] = b2_var\n",
    "grid[3, 3] = b1_var\n",
    "grid[4, 3] = b0_var\n",
    "grid[6, 3] = SSELabel\n",
    "grid[7, 3] = RsqrLabel\n",
    "grid[8, 3] = DWLabel\n",
    "\n",
    "update_plot(None)\n",
    "display(grid)"
   ]
  },
  {
   "cell_type": "markdown",
   "id": "9a60ecb1",
   "metadata": {
    "extensions": {
     "jupyter_dashboards": {
      "version": 1,
      "views": {
       "default_view": {
        "col": 0,
        "height": 2,
        "hidden": false,
        "row": 68,
        "width": 12
       }
      }
     }
    }
   },
   "source": [
    "### OLS, Polynomial degrees and data error range\n",
    "#### Objective:  \n",
    "   - understand the effect of changing the degree of a polynomial model on the OLS evaluation values.\n",
    "   - understand the effect of changing the error range in the data that need fitting\n",
    "\n",
    "#### How it works:\n",
    "   - **Degree:** refers to the degree of the polynomial model (range: 0-28, step: 1).\n",
    "   - **Error range:** specifies the synthetic random error range added to the data points, and Error range of 0.2, means the error for each data point can be anything from -0.2 to 0.2 (range: 0-1, step: 0.1).\n",
    "   - **Polynomials**: the same data points are used as in the previous task. Change the polynomial degree and note the changes in model parameters (coef) and other values shown in the OLS Regression Results table.\n",
    "   - **Residuals**: a plot for the analysis of residuals.\n",
    "   \n",
    "#### Discussion\n",
    "   - Based on your understanding from the session, what is the best model equation that can fit this sample of data at error range 0.1 (same as previous task)? Compare the OLS parameters results to the values you tried in the last task.\n",
    "   - Does changing the error range has an effect on the model to be chosen? What does this tell you?"
   ]
  },
  {
   "cell_type": "code",
   "execution_count": 3,
   "id": "f4061bc9",
   "metadata": {
    "extensions": {
     "jupyter_dashboards": {
      "version": 1,
      "views": {
       "default_view": {
        "hidden": true
       }
      }
     }
    },
    "jupyter": {
     "source_hidden": true
    },
    "tags": []
   },
   "outputs": [],
   "source": [
    "from sklearn.linear_model import LinearRegression"
   ]
  },
  {
   "cell_type": "code",
   "execution_count": 4,
   "id": "640130d7",
   "metadata": {
    "extensions": {
     "jupyter_dashboards": {
      "version": 1,
      "views": {
       "default_view": {
        "hidden": true
       }
      }
     }
    },
    "jupyter": {
     "source_hidden": true
    },
    "tags": []
   },
   "outputs": [],
   "source": [
    "from sklearn.preprocessing import PolynomialFeatures"
   ]
  },
  {
   "cell_type": "code",
   "execution_count": 5,
   "id": "4953eac5",
   "metadata": {
    "extensions": {
     "jupyter_dashboards": {
      "version": 1,
      "views": {
       "default_view": {
        "hidden": true
       }
      }
     }
    },
    "jupyter": {
     "source_hidden": true
    },
    "tags": []
   },
   "outputs": [],
   "source": [
    "import statsmodels.api as sm"
   ]
  },
  {
   "cell_type": "code",
   "execution_count": 8,
   "id": "39127a8b",
   "metadata": {
    "extensions": {
     "jupyter_dashboards": {
      "version": 1,
      "views": {
       "default_view": {
        "col": 0,
        "height": 2,
        "hidden": false,
        "row": 70,
        "width": 12
       }
      }
     }
    },
    "tags": []
   },
   "outputs": [
    {
     "data": {
      "application/vnd.jupyter.widget-view+json": {
       "model_id": "36e2d2c996d3429dbb3fe397320b2cc9",
       "version_major": 2,
       "version_minor": 0
      },
      "text/plain": [
       "GridspecLayout(children=(VBox(children=(HBox(children=(IntText(value=0, description='Degree'), FloatText(value…"
      ]
     },
     "metadata": {},
     "output_type": "display_data"
    }
   ],
   "source": [
    "# same synthetic data used in exercise 1\n",
    "np.random.seed(0)\n",
    "x = np.linspace(-1,1,30)\n",
    "e = np.random.normal(-0.1, 0.1, 30)\n",
    "z = x - 2 * (x ** 2) + 0.5 * (x ** 3) + e\n",
    "\n",
    "# setting the plot figure objects\n",
    "sc_x = bqp.LinearScale()\n",
    "sc_y = bqp.LinearScale()\n",
    "scat_PD = bqp.Scatter(x=x, y=[], colors=['orange'], default_size=10, scales = {'x':sc_x, 'y': sc_y})\n",
    "lines_PD = bqp.Lines(x=x, y=[], colors=['darkblue'], scales = {'x':sc_x, 'y': sc_y})\n",
    "ax_x = bqp.Axis(scale=sc_x, label='x')\n",
    "ax_y = bqp.Axis(scale=sc_y, orientation='vertical', label='y')\n",
    "figPD = bqp.Figure(marks=[scat_PD, lines_PD], axes=[ax_x, ax_y], title='Polynomials', animation_duration=1000, preserve_aspect=True)\n",
    "figPD.layout.width = '600px'\n",
    "figPD.layout.height = '350px'\n",
    "\n",
    "ax_xRsd = bqp.Axis(scale=sc_x, label='x')\n",
    "ax_yRsd = bqp.Axis(scale=sc_y, orientation='vertical', label='y')\n",
    "scat_Rsd = bqp.Scatter(x=x, y=[], colors=['orange'], default_size=10, scales = {'x':sc_x, 'y': sc_y})\n",
    "figRsd = bqp.Figure(marks=[scat_Rsd], axes=[ax_xRsd, ax_yRsd], title='Residuals', animation_duration=1000, preserve_aspect=False)\n",
    "figRsd.layout.width = '600px'\n",
    "figRsd.layout.height = '250px'\n",
    "\n",
    "errRange = widgets.FloatText(value=0.1, min=0, max=1, step=0.1, description='Error range')\n",
    "Degree = widgets.IntText(value=0, min=0, max=28, description='Degree')\n",
    "out = widgets.Output(layout={'border': '1px solid black'}, clear=True)\n",
    "\n",
    "# define function for plot update when changing the degree widget\n",
    "def update_plot(*args):\n",
    "    deg = Degree.value\n",
    "    err = errRange.value\n",
    "    if deg >= 0:\n",
    "        # use sklearn functions to fit the data given different model degrees\n",
    "        np.random.seed(0)\n",
    "        e = np.random.normal(-err, err, 30)\n",
    "        z = x - 2 * (x ** 2) + 0.5 * (x ** 3) + e\n",
    "        x1 = x[:, np.newaxis]\n",
    "        y1 = z[:, np.newaxis]\n",
    "        polynomial_features= PolynomialFeatures(degree=deg)\n",
    "        x_poly = polynomial_features.fit_transform(x1)\n",
    "        model = LinearRegression()\n",
    "        model.fit(x_poly, y1)\n",
    "        y_poly_pred = model.predict(x_poly)\n",
    "        X = x_poly\n",
    "    \n",
    "        # plot the updated model and data\n",
    "        lines_PD.y = y_poly_pred\n",
    "        scat_PD.y = z\n",
    "        scat_Rsd.y = z - lines_PD.y\n",
    "        # print the updated OLS regression results\n",
    "        model = sm.OLS(z, X)\n",
    "        results = model.fit()\n",
    "        Summary = results.summary()\n",
    "        # model evaluation calculations\n",
    "        n = len(z)\n",
    "        k = deg + 1\n",
    "        SSE = np.sum((z-lines_PD.y)**2)\n",
    "        SST = np.sum((z - np.mean(z))**2)\n",
    "        SSR = SST - SSE\n",
    "        Rsqr = 1 - SSE/SST\n",
    "        errDW = z - lines_PD.y\n",
    "        DW = (np.sum((np.diff(errDW))**2))/sum(errDW**2)\n",
    "        R2_corrected = 1-(1-Rsqr)*((n-1)/(n-k))\n",
    "        RMSE = np.sqrt(np.sum((z-lines_PD.y)**2)/(n-k))\n",
    "        MBE = np.sum(z-lines_PD.y)/(n-k)\n",
    "        if k > 1:\n",
    "            f = (SSR/SSE)*((n-k)/(k-1))\n",
    "        else:\n",
    "            f = 'nan'\n",
    "            \n",
    "        with out:\n",
    "            out.clear_output()\n",
    "            display(Latex('=============== MODEL COEFFICIENTS ================'))\n",
    "            for attributeIndex in range (0, deg+1):\n",
    "                display(Latex(f'b{attributeIndex} = {results.params[attributeIndex].round(4)}')) \n",
    "            display(Latex('=============== COEFFICIENTS P-VALUES ==============='))\n",
    "            for attributeIndex in range (0, deg+1):\n",
    "                display(Latex(f'p-value for b{attributeIndex} = {results.pvalues[attributeIndex].round(4)}'))\n",
    "            display(Latex('=============== MODEL EVALUATION ================'))\n",
    "            display(Latex(f'RMSE = {RMSE.round(4)}'))\n",
    "            display(Latex(f'MBE = {MBE.round(4)}'))\n",
    "            display(Latex(f'R$^2$ = {Rsqr.round(4)}'))\n",
    "            display(Latex(f'R$^2$ adjusted = {R2_corrected.round(4)}'))\n",
    "            display(Latex(f'Durbin Watson = {DW.round(4)}'))\n",
    "            if f == 'nan':\n",
    "                display(Latex(f'F-statistic = nan'))\n",
    "            else:\n",
    "                display(Latex(f'F-statistic = {f.round(4)}'))\n",
    "    else:\n",
    "        with out:\n",
    "            out.clear_output()\n",
    "            print(\"Polynomial Degree has to be larger than 0\")   \n",
    "\n",
    "    \n",
    "# observe the widgets and call function update_plot\n",
    "Degree.observe(update_plot, names='value')\n",
    "errRange.observe(update_plot, names='value')\n",
    "\n",
    "# create a 1x5 grid layout\n",
    "grid = widgets.GridspecLayout(1, 5)\n",
    "\n",
    "upperbox = widgets.HBox([Degree, errRange])\n",
    "leftbox = widgets.VBox([upperbox, figPD, figRsd])\n",
    "# box = widgets.HBox([leftbox, out])\n",
    "# fill it in with widgets\n",
    "grid[:, 0:3] = leftbox\n",
    "grid[:, 3:5] = out\n",
    "\n",
    "update_plot(None)\n",
    "display(grid)\n",
    "# display(box)"
   ]
  },
  {
   "cell_type": "code",
   "execution_count": null,
   "id": "9896d832-2701-4a88-99ef-64387d1dd3d7",
   "metadata": {},
   "outputs": [],
   "source": []
  }
 ],
 "metadata": {
  "kernelspec": {
   "display_name": "Python 3 (ipykernel)",
   "language": "python",
   "name": "python3"
  },
  "language_info": {
   "codemirror_mode": {
    "name": "ipython",
    "version": 3
   },
   "file_extension": ".py",
   "mimetype": "text/x-python",
   "name": "python",
   "nbconvert_exporter": "python",
   "pygments_lexer": "ipython3",
   "version": "3.8.11"
  }
 },
 "nbformat": 4,
 "nbformat_minor": 5
}
